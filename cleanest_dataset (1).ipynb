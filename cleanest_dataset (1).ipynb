{
 "cells": [
  {
   "cell_type": "code",
   "execution_count": null,
   "id": "d3b008d8-9337-4b7b-8d2e-59e73a8f104a",
   "metadata": {},
   "outputs": [],
   "source": [
    "import numpy as np\n",
    "import pandas as pd"
   ]
  },
  {
   "cell_type": "code",
   "execution_count": null,
   "id": "f2cbd3fb-0a16-4c50-9bef-3f25970062f8",
   "metadata": {},
   "outputs": [],
   "source": [
    "def one_hot_encode(X):\n",
    "    choices = list(set(X))\n",
    "    n = len(choices)\n",
    "\n",
    "    res = np.zeros((len(X), n))\n",
    "    \n",
    "    for i, t in enumerate(X):\n",
    "        res[i][choices.index(t)] = 1\n",
    "        \n",
    "    return res"
   ]
  },
  {
   "cell_type": "code",
   "execution_count": null,
   "id": "a4b1ecd5-1054-4b2a-b883-7593c782f09b",
   "metadata": {},
   "outputs": [],
   "source": [
    "df = pd.read_csv(\"features_label2.csv\",index_col=False)[[\"id\",\"count\",\"road\",\"road_type\",\"speed_limit\",\"temp\",\"rain\",\"snow\"]]\n",
    "df"
   ]
  },
  {
   "cell_type": "code",
   "execution_count": null,
   "id": "2d6e439e-3cb4-4c56-b234-ad3ccf1362d0",
   "metadata": {},
   "outputs": [],
   "source": [
    "print(one_hot_encode(df[\"speed_limit\"]))"
   ]
  },
  {
   "cell_type": "code",
   "execution_count": null,
   "id": "f3575137-15c5-4982-9146-0f36bd001cc4",
   "metadata": {},
   "outputs": [],
   "source": [
    "new_df = pd.DataFrame(np.c_[one_hot_encode(df[\"road_type\"]), one_hot_encode(df[\"speed_limit\"]), df[\"temp\"], df[\"rain\"], df[\"snow\"],df[\"count\"]])"
   ]
  },
  {
   "cell_type": "code",
   "execution_count": null,
   "id": "1e5f76e9-3af7-45f0-87bf-182de12c149b",
   "metadata": {},
   "outputs": [],
   "source": [
    "new_df"
   ]
  },
  {
   "cell_type": "code",
   "execution_count": null,
   "id": "ac2fab77",
   "metadata": {},
   "outputs": [],
   "source": [
    "new_df.to_csv(\"cleanest_dataset2.csv\",index=False)"
   ]
  }
 ],
 "metadata": {
  "kernelspec": {
   "display_name": "Python 3.9.5 ('mlenv')",
   "language": "python",
   "name": "python3"
  },
  "language_info": {
   "codemirror_mode": {
    "name": "ipython",
    "version": 3
   },
   "file_extension": ".py",
   "mimetype": "text/x-python",
   "name": "python",
   "nbconvert_exporter": "python",
   "pygments_lexer": "ipython3",
   "version": "3.9.5"
  },
  "vscode": {
   "interpreter": {
    "hash": "9a7b6a1d1fdf4e1a3223a80396e1baa014b6445268da125f235907588d779551"
   }
  }
 },
 "nbformat": 4,
 "nbformat_minor": 5
}
