{
 "cells": [
  {
   "cell_type": "code",
   "execution_count": null,
   "metadata": {},
   "outputs": [],
   "source": [
    "import pandas as pd\n",
    "import numpy as np"
   ]
  },
  {
   "cell_type": "markdown",
   "metadata": {},
   "source": [
    "## Get ids, labels, some road features"
   ]
  },
  {
   "cell_type": "code",
   "execution_count": null,
   "metadata": {},
   "outputs": [],
   "source": [
    "accident_df = pd.read_csv(\"accidents-route.csv\")"
   ]
  },
  {
   "cell_type": "code",
   "execution_count": null,
   "metadata": {},
   "outputs": [],
   "source": [
    "accident_df.columns"
   ]
  },
  {
   "cell_type": "code",
   "execution_count": null,
   "metadata": {},
   "outputs": [],
   "source": [
    "accident_df.head()"
   ]
  },
  {
   "cell_type": "code",
   "execution_count": null,
   "metadata": {},
   "outputs": [],
   "source": [
    "infraction_types = accident_df[\"code-infraction\"].unique()\n",
    "infraction_types"
   ]
  },
  {
   "cell_type": "markdown",
   "metadata": {},
   "source": [
    "We will only try to predict collisions."
   ]
  },
  {
   "cell_type": "code",
   "execution_count": null,
   "metadata": {},
   "outputs": [],
   "source": [
    "collisions = ['Collision matérielle de 2 000 $ et -',\n",
    "       'Collision matérielle de + de 2 000 $', 'Collision avec blessé',\n",
    "       'Collision mortelle', 'Collision hors route de + de 2 000 $',\n",
    "       'Collision hors route avec blessé',\n",
    "       'Collision hors route de 2 000 $ et -',\n",
    "       'Collision mortelle hors route']\n",
    "\n",
    "collisions_df = accident_df[accident_df[\"code-infraction\"].isin(collisions)]"
   ]
  },
  {
   "cell_type": "code",
   "execution_count": null,
   "metadata": {},
   "outputs": [],
   "source": [
    "print(collisions_df.shape)\n",
    "collisions_df.head(3)"
   ]
  },
  {
   "cell_type": "code",
   "execution_count": null,
   "metadata": {},
   "outputs": [],
   "source": [
    "collisions_2018 = collisions_df[collisions_df[\"annee-infraction\"].isin([2015,2016,2017,2018,2019])]\n",
    "print(collisions_2018.shape)\n",
    "collisions_2018.head(3)"
   ]
  },
  {
   "cell_type": "code",
   "execution_count": null,
   "metadata": {},
   "outputs": [],
   "source": [
    "collisions_2018.columns"
   ]
  },
  {
   "cell_type": "code",
   "execution_count": null,
   "metadata": {},
   "outputs": [],
   "source": [
    "from pyexpat import features\n",
    "\n",
    "\n",
    "features = [\"code-infraction\",\"mois-infraction\",\"type-rue\",\"rue\",\"type-rue-2\",\"annee-infraction\"]\n",
    "collisions_2018 = collisions_2018[features].dropna()"
   ]
  },
  {
   "cell_type": "code",
   "execution_count": null,
   "metadata": {},
   "outputs": [],
   "source": [
    "collisions_2018.head()"
   ]
  },
  {
   "cell_type": "markdown",
   "metadata": {},
   "source": [
    "We now want to find how many collisions happen on a particular road in a given year and month."
   ]
  },
  {
   "cell_type": "code",
   "execution_count": null,
   "metadata": {},
   "outputs": [],
   "source": [
    "type_rue = collisions_2018[\"type-rue-2\"].unique()\n",
    "rues = collisions_2018[\"rue\"].unique()"
   ]
  },
  {
   "cell_type": "code",
   "execution_count": null,
   "metadata": {},
   "outputs": [],
   "source": [
    "collisions_2018[\"id\"] = collisions_2018[\"rue\"] + \"@\" + collisions_2018[\"annee-infraction\"].astype(str) + \"@\" + collisions_2018[\"mois-infraction\"].astype(str)"
   ]
  },
  {
   "cell_type": "code",
   "execution_count": null,
   "metadata": {},
   "outputs": [],
   "source": [
    "uniques = collisions_2018[\"id\"].unique()"
   ]
  },
  {
   "cell_type": "code",
   "execution_count": null,
   "metadata": {},
   "outputs": [],
   "source": [
    "# count = collisions_2018[\"id\"].value_counts()\n",
    "_count = collisions_2018.groupby([\"id\"])[\"id\"].count()\n"
   ]
  },
  {
   "cell_type": "code",
   "execution_count": null,
   "metadata": {},
   "outputs": [],
   "source": [
    "months = [int(i.split(\"@\")[2]) for i in uniques]\n",
    "year = [int(i.split(\"@\")[1]) for i in uniques]\n",
    "road = [i.split(\"@\")[0] for i in uniques]\n",
    "road_type = [collisions_2018[collisions_2018[\"id\"] == i][\"type-rue\"].iloc[0] for i in uniques]"
   ]
  },
  {
   "cell_type": "code",
   "execution_count": null,
   "metadata": {},
   "outputs": [],
   "source": [
    "count = pd.DataFrame({\"id\":uniques,\"count\":_count[uniques],\"month\":months,\"road\":road,\"road_type\":road_type,\"year\":year})\n",
    "count.reset_index(drop=True, inplace=True)\n",
    "count.head()"
   ]
  },
  {
   "cell_type": "code",
   "execution_count": null,
   "metadata": {},
   "outputs": [],
   "source": [
    "count.shape"
   ]
  },
  {
   "cell_type": "markdown",
   "metadata": {},
   "source": [
    "## Getting speed limits in the df\n",
    "\n",
    "---\n"
   ]
  },
  {
   "cell_type": "code",
   "execution_count": null,
   "metadata": {},
   "outputs": [],
   "source": [
    "speed_raw = pd.read_csv(\"limite-vitesse-2014.csv\")\n",
    "print(speed_raw.shape)\n",
    "speed_raw.head(5)"
   ]
  },
  {
   "cell_type": "code",
   "execution_count": null,
   "metadata": {},
   "outputs": [],
   "source": [
    "odonymes = speed_raw[\"ODONYME\"].unique()"
   ]
  },
  {
   "cell_type": "code",
   "execution_count": null,
   "metadata": {},
   "outputs": [],
   "source": [
    "lim_speed_by_od = {}\n",
    "for index,row in speed_raw.iterrows():\n",
    "    if row[8] not in lim_speed_by_od.keys():\n",
    "        lim_speed_by_od[row[8]] = row[-1]"
   ]
  },
  {
   "cell_type": "code",
   "execution_count": null,
   "metadata": {},
   "outputs": [],
   "source": [
    "set(lim_speed_by_od.keys()) == set(odonymes)"
   ]
  },
  {
   "cell_type": "code",
   "execution_count": null,
   "metadata": {},
   "outputs": [],
   "source": [
    "check = []\n",
    "welp = []\n",
    "matches_dict = {}\n",
    "for i in rues:\n",
    "    for j in odonymes:\n",
    "        if i.lower() in j.lower():\n",
    "            check.append(True)\n",
    "            welp.append(True)\n",
    "            matches_dict[i] = lim_speed_by_od[j]\n",
    "            break\n",
    "    check.append(False)"
   ]
  },
  {
   "cell_type": "code",
   "execution_count": null,
   "metadata": {},
   "outputs": [],
   "source": [
    "count[\"speed_limit\"] = count[\"road\"].map(matches_dict)\n",
    "count[\"speed_limit\"] = count[\"speed_limit\"].fillna(0)"
   ]
  },
  {
   "cell_type": "code",
   "execution_count": null,
   "metadata": {},
   "outputs": [],
   "source": [
    "count.head()"
   ]
  },
  {
   "cell_type": "code",
   "execution_count": null,
   "metadata": {},
   "outputs": [],
   "source": [
    "count = count.dropna()"
   ]
  },
  {
   "cell_type": "code",
   "execution_count": null,
   "metadata": {},
   "outputs": [],
   "source": [
    "count"
   ]
  },
  {
   "cell_type": "markdown",
   "metadata": {},
   "source": [
    "## Add weather data\n",
    "---\n",
    "The weather data was compiled in another notebook so we only have to match with the right months and years."
   ]
  },
  {
   "cell_type": "code",
   "execution_count": null,
   "metadata": {},
   "outputs": [],
   "source": [
    "weather_raw = pd.read_csv(\"weather_compilation.csv\")\n",
    "weather_raw.head(5)\n",
    "weather_raw[\"month\"] = weather_raw[\"month\"].astype(int)\n",
    "weather_raw[\"year\"] = weather_raw[\"year\"].astype(int)"
   ]
  },
  {
   "cell_type": "code",
   "execution_count": null,
   "metadata": {},
   "outputs": [],
   "source": [
    "weather_2018 = weather_raw[weather_raw[\"year\"].isin([2015,2016,2017,2018,2019])]\n",
    "weather_2018[\"month_year\"] = weather_2018[\"month\"].astype(str) + \"_\" +weather_2018[\"year\"].astype(str)\n",
    "weather_2018"
   ]
  },
  {
   "cell_type": "code",
   "execution_count": null,
   "metadata": {},
   "outputs": [],
   "source": [
    "count[\"month_year\"] = count[\"month\"].astype(str) +  \"_\" + count[\"year\"].astype(str)"
   ]
  },
  {
   "cell_type": "code",
   "execution_count": null,
   "metadata": {},
   "outputs": [],
   "source": [
    "count"
   ]
  },
  {
   "cell_type": "code",
   "execution_count": null,
   "metadata": {},
   "outputs": [],
   "source": [
    "for i in [\"temp\",\"rain\",\"snow\"]:\n",
    "    d = {i:j for i,j in zip(weather_2018[\"month_year\"],weather_2018[i])}\n",
    "    count[i] = count[\"month_year\"].map(d)"
   ]
  },
  {
   "cell_type": "code",
   "execution_count": null,
   "metadata": {},
   "outputs": [],
   "source": [
    "count"
   ]
  },
  {
   "cell_type": "code",
   "execution_count": null,
   "metadata": {},
   "outputs": [],
   "source": [
    "count = count.dropna()"
   ]
  },
  {
   "cell_type": "code",
   "execution_count": null,
   "metadata": {},
   "outputs": [],
   "source": [
    "count.to_csv(\"features_label2.csv\")"
   ]
  },
  {
   "cell_type": "code",
   "execution_count": null,
   "metadata": {},
   "outputs": [],
   "source": [
    "len(count[\"speed_limit\"].unique())"
   ]
  },
  {
   "cell_type": "code",
   "execution_count": null,
   "metadata": {},
   "outputs": [],
   "source": []
  }
 ],
 "metadata": {
  "kernelspec": {
   "display_name": "Python 3.9.5 ('mlenv')",
   "language": "python",
   "name": "python3"
  },
  "language_info": {
   "codemirror_mode": {
    "name": "ipython",
    "version": 3
   },
   "file_extension": ".py",
   "mimetype": "text/x-python",
   "name": "python",
   "nbconvert_exporter": "python",
   "pygments_lexer": "ipython3",
   "version": "3.9.5"
  },
  "orig_nbformat": 4,
  "vscode": {
   "interpreter": {
    "hash": "9a7b6a1d1fdf4e1a3223a80396e1baa014b6445268da125f235907588d779551"
   }
  }
 },
 "nbformat": 4,
 "nbformat_minor": 2
}
