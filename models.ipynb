{
 "cells": [
  {
   "cell_type": "code",
   "execution_count": 2,
   "id": "2709f6d0-3d6e-40a3-ae09-12011ad3906a",
   "metadata": {},
   "outputs": [
    {
     "name": "stderr",
     "output_type": "stream",
     "text": [
      "c:\\Users\\rahar\\.conda\\envs\\mlenv\\lib\\site-packages\\scipy\\__init__.py:146: UserWarning: A NumPy version >=1.16.5 and <1.23.0 is required for this version of SciPy (detected version 1.23.3\n",
      "  warnings.warn(f\"A NumPy version >={np_minversion} and <{np_maxversion}\"\n"
     ]
    },
    {
     "data": {
      "text/plain": [
       "[PhysicalDevice(name='/physical_device:CPU:0', device_type='CPU'),\n",
       " PhysicalDevice(name='/physical_device:GPU:0', device_type='GPU')]"
      ]
     },
     "execution_count": 2,
     "metadata": {},
     "output_type": "execute_result"
    }
   ],
   "source": [
    "import tensorflow as tf\n",
    "from tensorflow import keras\n",
    "from tensorflow.keras import layers\n",
    "import pandas as pd\n",
    "from sklearn.model_selection import train_test_split\n",
    "import matplotlib.pyplot as plt\n",
    "from tensorflow.keras.layers import Dense, Dropout, Activation\n",
    "\n",
    "# tf.__version__\n",
    "tf.config.list_physical_devices()"
   ]
  },
  {
   "cell_type": "code",
   "execution_count": 3,
   "id": "7027777c",
   "metadata": {},
   "outputs": [
    {
     "data": {
      "text/plain": [
       "'2.5.0'"
      ]
     },
     "execution_count": 3,
     "metadata": {},
     "output_type": "execute_result"
    }
   ],
   "source": [
    "tf.__version__"
   ]
  },
  {
   "cell_type": "code",
   "execution_count": 4,
   "id": "072391ce",
   "metadata": {},
   "outputs": [],
   "source": [
    "import seaborn as sns\n",
    "sns.set_style(\"darkgrid\")"
   ]
  },
  {
   "cell_type": "code",
   "execution_count": 5,
   "id": "26220a3f-1a84-4327-914b-6aafb0f1f014",
   "metadata": {},
   "outputs": [
    {
     "name": "stdout",
     "output_type": "stream",
     "text": [
      "WARNING:tensorflow:Please add `keras.layers.InputLayer` instead of `keras.Input` to Sequential model. `keras.Input` is intended to be used by Functional model.\n"
     ]
    }
   ],
   "source": [
    "model = keras.Sequential([\n",
    "    layers.Input(shape=(23,)),\n",
    "\n",
    "    # layers.Dense(4096, activation=\"relu\"),\n",
    "    # layers.Dense(4096, activation=\"relu\"),\n",
    "    # layers.Dense(4096, activation=\"relu\"),\n",
    "\n",
    "    # layers.Dense(4096, activation=\"relu\"),\n",
    "    # layers.Dense(1024, activation=\"relu\"),\n",
    "    # layers.Dense(4096, activation=\"relu\"),\n",
    "    # layers.Dense(1024, activation=\"relu\"),\n",
    "    layers.Dense(128, activation=\"relu\"),\n",
    "    layers.Dense(256, activation=\"relu\"),\n",
    "    layers.Dropout(0.1),\n",
    "    layers.Dense(1024, activation=\"relu\"),\n",
    "    layers.Dense(4096, activation=\"relu\"),\n",
    "    layers.Dropout(0.1),\n",
    "    layers.Dense(4096, activation=\"relu\"),\n",
    "    layers.Dense(1024, activation=\"relu\"),\n",
    "    layers.Dropout(0.1),\n",
    "    layers.Dense(256, activation=\"relu\"),\n",
    "    layers.Dense(128, activation=\"relu\"),\n",
    "    \n",
    "    layers.Dropout(0.1),\n",
    "    layers.Dense(1)\n",
    "    \n",
    "])\n",
    "# for i in range(8):\n",
    "#     model.add(Dense(2048))\n",
    "#     model.add(Activation(\"relu\"))\n",
    "\n",
    "# model.add(Dropout(0.1))\n",
    "# model.add(Dense(1))\n",
    "\n",
    "model.build()"
   ]
  },
  {
   "cell_type": "code",
   "execution_count": 6,
   "id": "120742fe-2860-4d58-ad34-0d7ff84b0e17",
   "metadata": {},
   "outputs": [
    {
     "name": "stdout",
     "output_type": "stream",
     "text": [
      "Model: \"sequential\"\n",
      "_________________________________________________________________\n",
      "Layer (type)                 Output Shape              Param #   \n",
      "=================================================================\n",
      "dense (Dense)                (None, 128)               3072      \n",
      "_________________________________________________________________\n",
      "dense_1 (Dense)              (None, 256)               33024     \n",
      "_________________________________________________________________\n",
      "dropout (Dropout)            (None, 256)               0         \n",
      "_________________________________________________________________\n",
      "dense_2 (Dense)              (None, 1024)              263168    \n",
      "_________________________________________________________________\n",
      "dense_3 (Dense)              (None, 4096)              4198400   \n",
      "_________________________________________________________________\n",
      "dropout_1 (Dropout)          (None, 4096)              0         \n",
      "_________________________________________________________________\n",
      "dense_4 (Dense)              (None, 4096)              16781312  \n",
      "_________________________________________________________________\n",
      "dense_5 (Dense)              (None, 1024)              4195328   \n",
      "_________________________________________________________________\n",
      "dropout_2 (Dropout)          (None, 1024)              0         \n",
      "_________________________________________________________________\n",
      "dense_6 (Dense)              (None, 256)               262400    \n",
      "_________________________________________________________________\n",
      "dense_7 (Dense)              (None, 128)               32896     \n",
      "_________________________________________________________________\n",
      "dropout_3 (Dropout)          (None, 128)               0         \n",
      "_________________________________________________________________\n",
      "dense_8 (Dense)              (None, 1)                 129       \n",
      "=================================================================\n",
      "Total params: 25,769,729\n",
      "Trainable params: 25,769,729\n",
      "Non-trainable params: 0\n",
      "_________________________________________________________________\n"
     ]
    }
   ],
   "source": [
    "model.summary()"
   ]
  },
  {
   "cell_type": "code",
   "execution_count": 7,
   "id": "1e3ce99d-e3b1-42ef-a8f9-bc6253492d84",
   "metadata": {},
   "outputs": [],
   "source": [
    "model.compile(loss=\"mean_squared_error\",\n",
    "              optimizer=\"adam\")"
   ]
  },
  {
   "cell_type": "code",
   "execution_count": 8,
   "id": "1e828133",
   "metadata": {},
   "outputs": [
    {
     "data": {
      "text/html": [
       "<div>\n",
       "<style scoped>\n",
       "    .dataframe tbody tr th:only-of-type {\n",
       "        vertical-align: middle;\n",
       "    }\n",
       "\n",
       "    .dataframe tbody tr th {\n",
       "        vertical-align: top;\n",
       "    }\n",
       "\n",
       "    .dataframe thead th {\n",
       "        text-align: right;\n",
       "    }\n",
       "</style>\n",
       "<table border=\"1\" class=\"dataframe\">\n",
       "  <thead>\n",
       "    <tr style=\"text-align: right;\">\n",
       "      <th></th>\n",
       "      <th>0</th>\n",
       "      <th>1</th>\n",
       "      <th>2</th>\n",
       "      <th>3</th>\n",
       "      <th>4</th>\n",
       "      <th>5</th>\n",
       "      <th>6</th>\n",
       "      <th>7</th>\n",
       "      <th>8</th>\n",
       "      <th>9</th>\n",
       "      <th>...</th>\n",
       "      <th>14</th>\n",
       "      <th>15</th>\n",
       "      <th>16</th>\n",
       "      <th>17</th>\n",
       "      <th>18</th>\n",
       "      <th>19</th>\n",
       "      <th>20</th>\n",
       "      <th>21</th>\n",
       "      <th>22</th>\n",
       "      <th>23</th>\n",
       "    </tr>\n",
       "  </thead>\n",
       "  <tbody>\n",
       "    <tr>\n",
       "      <th>0</th>\n",
       "      <td>1.0</td>\n",
       "      <td>0.0</td>\n",
       "      <td>0.0</td>\n",
       "      <td>0.0</td>\n",
       "      <td>0.0</td>\n",
       "      <td>0.0</td>\n",
       "      <td>0.0</td>\n",
       "      <td>0.0</td>\n",
       "      <td>0.0</td>\n",
       "      <td>0.0</td>\n",
       "      <td>...</td>\n",
       "      <td>1.0</td>\n",
       "      <td>0.0</td>\n",
       "      <td>0.0</td>\n",
       "      <td>0.0</td>\n",
       "      <td>0.0</td>\n",
       "      <td>0.0</td>\n",
       "      <td>18.220</td>\n",
       "      <td>2.693</td>\n",
       "      <td>0.00</td>\n",
       "      <td>7.0</td>\n",
       "    </tr>\n",
       "    <tr>\n",
       "      <th>1</th>\n",
       "      <td>1.0</td>\n",
       "      <td>0.0</td>\n",
       "      <td>0.0</td>\n",
       "      <td>0.0</td>\n",
       "      <td>0.0</td>\n",
       "      <td>0.0</td>\n",
       "      <td>0.0</td>\n",
       "      <td>0.0</td>\n",
       "      <td>0.0</td>\n",
       "      <td>0.0</td>\n",
       "      <td>...</td>\n",
       "      <td>1.0</td>\n",
       "      <td>0.0</td>\n",
       "      <td>0.0</td>\n",
       "      <td>0.0</td>\n",
       "      <td>0.0</td>\n",
       "      <td>0.0</td>\n",
       "      <td>18.220</td>\n",
       "      <td>2.693</td>\n",
       "      <td>0.00</td>\n",
       "      <td>11.0</td>\n",
       "    </tr>\n",
       "    <tr>\n",
       "      <th>2</th>\n",
       "      <td>0.0</td>\n",
       "      <td>0.0</td>\n",
       "      <td>0.0</td>\n",
       "      <td>0.0</td>\n",
       "      <td>0.0</td>\n",
       "      <td>0.0</td>\n",
       "      <td>1.0</td>\n",
       "      <td>0.0</td>\n",
       "      <td>0.0</td>\n",
       "      <td>0.0</td>\n",
       "      <td>...</td>\n",
       "      <td>0.0</td>\n",
       "      <td>0.0</td>\n",
       "      <td>0.0</td>\n",
       "      <td>1.0</td>\n",
       "      <td>0.0</td>\n",
       "      <td>0.0</td>\n",
       "      <td>18.220</td>\n",
       "      <td>2.693</td>\n",
       "      <td>0.00</td>\n",
       "      <td>2.0</td>\n",
       "    </tr>\n",
       "    <tr>\n",
       "      <th>3</th>\n",
       "      <td>0.0</td>\n",
       "      <td>0.0</td>\n",
       "      <td>0.0</td>\n",
       "      <td>1.0</td>\n",
       "      <td>0.0</td>\n",
       "      <td>0.0</td>\n",
       "      <td>0.0</td>\n",
       "      <td>0.0</td>\n",
       "      <td>0.0</td>\n",
       "      <td>0.0</td>\n",
       "      <td>...</td>\n",
       "      <td>1.0</td>\n",
       "      <td>0.0</td>\n",
       "      <td>0.0</td>\n",
       "      <td>0.0</td>\n",
       "      <td>0.0</td>\n",
       "      <td>0.0</td>\n",
       "      <td>18.220</td>\n",
       "      <td>2.693</td>\n",
       "      <td>0.00</td>\n",
       "      <td>3.0</td>\n",
       "    </tr>\n",
       "    <tr>\n",
       "      <th>4</th>\n",
       "      <td>0.0</td>\n",
       "      <td>0.0</td>\n",
       "      <td>0.0</td>\n",
       "      <td>0.0</td>\n",
       "      <td>0.0</td>\n",
       "      <td>0.0</td>\n",
       "      <td>1.0</td>\n",
       "      <td>0.0</td>\n",
       "      <td>0.0</td>\n",
       "      <td>0.0</td>\n",
       "      <td>...</td>\n",
       "      <td>1.0</td>\n",
       "      <td>0.0</td>\n",
       "      <td>0.0</td>\n",
       "      <td>0.0</td>\n",
       "      <td>0.0</td>\n",
       "      <td>0.0</td>\n",
       "      <td>18.220</td>\n",
       "      <td>2.693</td>\n",
       "      <td>0.00</td>\n",
       "      <td>10.0</td>\n",
       "    </tr>\n",
       "    <tr>\n",
       "      <th>...</th>\n",
       "      <td>...</td>\n",
       "      <td>...</td>\n",
       "      <td>...</td>\n",
       "      <td>...</td>\n",
       "      <td>...</td>\n",
       "      <td>...</td>\n",
       "      <td>...</td>\n",
       "      <td>...</td>\n",
       "      <td>...</td>\n",
       "      <td>...</td>\n",
       "      <td>...</td>\n",
       "      <td>...</td>\n",
       "      <td>...</td>\n",
       "      <td>...</td>\n",
       "      <td>...</td>\n",
       "      <td>...</td>\n",
       "      <td>...</td>\n",
       "      <td>...</td>\n",
       "      <td>...</td>\n",
       "      <td>...</td>\n",
       "      <td>...</td>\n",
       "    </tr>\n",
       "    <tr>\n",
       "      <th>1732</th>\n",
       "      <td>1.0</td>\n",
       "      <td>0.0</td>\n",
       "      <td>0.0</td>\n",
       "      <td>0.0</td>\n",
       "      <td>0.0</td>\n",
       "      <td>0.0</td>\n",
       "      <td>0.0</td>\n",
       "      <td>0.0</td>\n",
       "      <td>0.0</td>\n",
       "      <td>0.0</td>\n",
       "      <td>...</td>\n",
       "      <td>0.0</td>\n",
       "      <td>0.0</td>\n",
       "      <td>0.0</td>\n",
       "      <td>1.0</td>\n",
       "      <td>0.0</td>\n",
       "      <td>0.0</td>\n",
       "      <td>-4.547</td>\n",
       "      <td>1.819</td>\n",
       "      <td>8.42</td>\n",
       "      <td>2.0</td>\n",
       "    </tr>\n",
       "    <tr>\n",
       "      <th>1733</th>\n",
       "      <td>0.0</td>\n",
       "      <td>0.0</td>\n",
       "      <td>0.0</td>\n",
       "      <td>0.0</td>\n",
       "      <td>0.0</td>\n",
       "      <td>0.0</td>\n",
       "      <td>0.0</td>\n",
       "      <td>0.0</td>\n",
       "      <td>1.0</td>\n",
       "      <td>0.0</td>\n",
       "      <td>...</td>\n",
       "      <td>0.0</td>\n",
       "      <td>0.0</td>\n",
       "      <td>1.0</td>\n",
       "      <td>0.0</td>\n",
       "      <td>0.0</td>\n",
       "      <td>0.0</td>\n",
       "      <td>-4.547</td>\n",
       "      <td>1.819</td>\n",
       "      <td>8.42</td>\n",
       "      <td>2.0</td>\n",
       "    </tr>\n",
       "    <tr>\n",
       "      <th>1734</th>\n",
       "      <td>0.0</td>\n",
       "      <td>0.0</td>\n",
       "      <td>0.0</td>\n",
       "      <td>0.0</td>\n",
       "      <td>0.0</td>\n",
       "      <td>0.0</td>\n",
       "      <td>1.0</td>\n",
       "      <td>0.0</td>\n",
       "      <td>0.0</td>\n",
       "      <td>0.0</td>\n",
       "      <td>...</td>\n",
       "      <td>0.0</td>\n",
       "      <td>0.0</td>\n",
       "      <td>1.0</td>\n",
       "      <td>0.0</td>\n",
       "      <td>0.0</td>\n",
       "      <td>0.0</td>\n",
       "      <td>-4.547</td>\n",
       "      <td>1.819</td>\n",
       "      <td>8.42</td>\n",
       "      <td>2.0</td>\n",
       "    </tr>\n",
       "    <tr>\n",
       "      <th>1735</th>\n",
       "      <td>0.0</td>\n",
       "      <td>0.0</td>\n",
       "      <td>0.0</td>\n",
       "      <td>0.0</td>\n",
       "      <td>0.0</td>\n",
       "      <td>0.0</td>\n",
       "      <td>0.0</td>\n",
       "      <td>0.0</td>\n",
       "      <td>1.0</td>\n",
       "      <td>0.0</td>\n",
       "      <td>...</td>\n",
       "      <td>0.0</td>\n",
       "      <td>0.0</td>\n",
       "      <td>1.0</td>\n",
       "      <td>0.0</td>\n",
       "      <td>0.0</td>\n",
       "      <td>0.0</td>\n",
       "      <td>-4.547</td>\n",
       "      <td>1.819</td>\n",
       "      <td>8.42</td>\n",
       "      <td>2.0</td>\n",
       "    </tr>\n",
       "    <tr>\n",
       "      <th>1736</th>\n",
       "      <td>0.0</td>\n",
       "      <td>0.0</td>\n",
       "      <td>0.0</td>\n",
       "      <td>0.0</td>\n",
       "      <td>0.0</td>\n",
       "      <td>0.0</td>\n",
       "      <td>1.0</td>\n",
       "      <td>0.0</td>\n",
       "      <td>0.0</td>\n",
       "      <td>0.0</td>\n",
       "      <td>...</td>\n",
       "      <td>1.0</td>\n",
       "      <td>0.0</td>\n",
       "      <td>0.0</td>\n",
       "      <td>0.0</td>\n",
       "      <td>0.0</td>\n",
       "      <td>0.0</td>\n",
       "      <td>-4.547</td>\n",
       "      <td>1.819</td>\n",
       "      <td>8.42</td>\n",
       "      <td>1.0</td>\n",
       "    </tr>\n",
       "  </tbody>\n",
       "</table>\n",
       "<p>1737 rows × 24 columns</p>\n",
       "</div>"
      ],
      "text/plain": [
       "        0    1    2    3    4    5    6    7    8    9  ...   14   15   16  \\\n",
       "0     1.0  0.0  0.0  0.0  0.0  0.0  0.0  0.0  0.0  0.0  ...  1.0  0.0  0.0   \n",
       "1     1.0  0.0  0.0  0.0  0.0  0.0  0.0  0.0  0.0  0.0  ...  1.0  0.0  0.0   \n",
       "2     0.0  0.0  0.0  0.0  0.0  0.0  1.0  0.0  0.0  0.0  ...  0.0  0.0  0.0   \n",
       "3     0.0  0.0  0.0  1.0  0.0  0.0  0.0  0.0  0.0  0.0  ...  1.0  0.0  0.0   \n",
       "4     0.0  0.0  0.0  0.0  0.0  0.0  1.0  0.0  0.0  0.0  ...  1.0  0.0  0.0   \n",
       "...   ...  ...  ...  ...  ...  ...  ...  ...  ...  ...  ...  ...  ...  ...   \n",
       "1732  1.0  0.0  0.0  0.0  0.0  0.0  0.0  0.0  0.0  0.0  ...  0.0  0.0  0.0   \n",
       "1733  0.0  0.0  0.0  0.0  0.0  0.0  0.0  0.0  1.0  0.0  ...  0.0  0.0  1.0   \n",
       "1734  0.0  0.0  0.0  0.0  0.0  0.0  1.0  0.0  0.0  0.0  ...  0.0  0.0  1.0   \n",
       "1735  0.0  0.0  0.0  0.0  0.0  0.0  0.0  0.0  1.0  0.0  ...  0.0  0.0  1.0   \n",
       "1736  0.0  0.0  0.0  0.0  0.0  0.0  1.0  0.0  0.0  0.0  ...  1.0  0.0  0.0   \n",
       "\n",
       "       17   18   19      20     21    22    23  \n",
       "0     0.0  0.0  0.0  18.220  2.693  0.00   7.0  \n",
       "1     0.0  0.0  0.0  18.220  2.693  0.00  11.0  \n",
       "2     1.0  0.0  0.0  18.220  2.693  0.00   2.0  \n",
       "3     0.0  0.0  0.0  18.220  2.693  0.00   3.0  \n",
       "4     0.0  0.0  0.0  18.220  2.693  0.00  10.0  \n",
       "...   ...  ...  ...     ...    ...   ...   ...  \n",
       "1732  1.0  0.0  0.0  -4.547  1.819  8.42   2.0  \n",
       "1733  0.0  0.0  0.0  -4.547  1.819  8.42   2.0  \n",
       "1734  0.0  0.0  0.0  -4.547  1.819  8.42   2.0  \n",
       "1735  0.0  0.0  0.0  -4.547  1.819  8.42   2.0  \n",
       "1736  0.0  0.0  0.0  -4.547  1.819  8.42   1.0  \n",
       "\n",
       "[1737 rows x 24 columns]"
      ]
     },
     "execution_count": 8,
     "metadata": {},
     "output_type": "execute_result"
    }
   ],
   "source": [
    "df = pd.read_csv(\"cleanest_dataset2.csv\")\n",
    "df"
   ]
  },
  {
   "cell_type": "code",
   "execution_count": 9,
   "id": "66bdd700-5ef8-480e-97c6-2c3c84cc0f29",
   "metadata": {},
   "outputs": [
    {
     "name": "stdout",
     "output_type": "stream",
     "text": [
      "(1737, 24)\n",
      "[[ 1.     0.     0.    ... 18.22   2.693  0.   ]\n",
      " [ 1.     0.     0.    ... 18.22   2.693  0.   ]\n",
      " [ 0.     0.     0.    ... 18.22   2.693  0.   ]\n",
      " ...\n",
      " [ 0.     0.     0.    ... -4.547  1.819  8.42 ]\n",
      " [ 0.     0.     0.    ... -4.547  1.819  8.42 ]\n",
      " [ 0.     0.     0.    ... -4.547  1.819  8.42 ]]\n"
     ]
    }
   ],
   "source": [
    "arr = pd.read_csv(\"cleanest_dataset2.csv\",index_col= False).to_numpy()\n",
    "\n",
    "print(arr.shape)\n",
    "\n",
    "X_data = arr[:, :-1]\n",
    "y_data = arr[:, -1]\n",
    "print(X_data)\n",
    "X_train, X_test, y_train, y_test = train_test_split(X_data, y_data, test_size=0.2)"
   ]
  },
  {
   "cell_type": "code",
   "execution_count": 10,
   "id": "3f829a63",
   "metadata": {},
   "outputs": [
    {
     "data": {
      "text/plain": [
       "array([0.   , 0.   , 0.   , 0.   , 0.   , 0.   , 1.   , 0.   , 0.   ,\n",
       "       0.   , 0.   , 0.   , 0.   , 0.   , 1.   , 0.   , 0.   , 0.   ,\n",
       "       0.   , 0.   , 7.504, 2.764, 0.   ])"
      ]
     },
     "execution_count": 10,
     "metadata": {},
     "output_type": "execute_result"
    }
   ],
   "source": [
    "X_train[1]"
   ]
  },
  {
   "cell_type": "code",
   "execution_count": 11,
   "id": "26169cf6-506e-4c57-930f-b18fb7d7436e",
   "metadata": {
    "tags": []
   },
   "outputs": [
    {
     "name": "stdout",
     "output_type": "stream",
     "text": [
      "Epoch 1/50\n",
      "70/70 [==============================] - 4s 21ms/step - loss: 20.2195 - val_loss: 16.9770\n",
      "Epoch 2/50\n",
      "70/70 [==============================] - 1s 19ms/step - loss: 17.3023 - val_loss: 19.9723\n",
      "Epoch 3/50\n",
      "70/70 [==============================] - 1s 20ms/step - loss: 16.2217 - val_loss: 15.1740\n",
      "Epoch 4/50\n",
      "70/70 [==============================] - 1s 21ms/step - loss: 16.7252 - val_loss: 13.9148\n",
      "Epoch 5/50\n",
      "70/70 [==============================] - 1s 20ms/step - loss: 16.4689 - val_loss: 14.2932\n",
      "Epoch 6/50\n",
      "70/70 [==============================] - 2s 23ms/step - loss: 14.5627 - val_loss: 14.9398\n",
      "Epoch 7/50\n",
      "70/70 [==============================] - 2s 22ms/step - loss: 14.8451 - val_loss: 14.5263\n",
      "Epoch 8/50\n",
      "70/70 [==============================] - 1s 21ms/step - loss: 15.0638 - val_loss: 13.7189\n",
      "Epoch 9/50\n",
      "70/70 [==============================] - 2s 22ms/step - loss: 14.9439 - val_loss: 14.4781\n",
      "Epoch 10/50\n",
      "70/70 [==============================] - 1s 21ms/step - loss: 15.1340 - val_loss: 13.9845\n",
      "Epoch 11/50\n",
      "70/70 [==============================] - 1s 20ms/step - loss: 14.3611 - val_loss: 13.5811\n",
      "Epoch 12/50\n",
      "70/70 [==============================] - 1s 20ms/step - loss: 14.0598 - val_loss: 13.6613\n",
      "Epoch 13/50\n",
      "70/70 [==============================] - 1s 18ms/step - loss: 14.7781 - val_loss: 13.2694\n",
      "Epoch 14/50\n",
      "70/70 [==============================] - 1s 18ms/step - loss: 13.9128 - val_loss: 14.4351\n",
      "Epoch 15/50\n",
      "70/70 [==============================] - 1s 20ms/step - loss: 14.0746 - val_loss: 14.2421\n",
      "Epoch 16/50\n",
      "70/70 [==============================] - 1s 17ms/step - loss: 14.6072 - val_loss: 14.4883\n",
      "Epoch 17/50\n",
      "70/70 [==============================] - 2s 22ms/step - loss: 14.2077 - val_loss: 14.0205\n",
      "Epoch 18/50\n",
      "70/70 [==============================] - 1s 16ms/step - loss: 14.5529 - val_loss: 14.2262\n",
      "Epoch 19/50\n",
      "70/70 [==============================] - 1s 18ms/step - loss: 13.6962 - val_loss: 13.5021\n",
      "Epoch 20/50\n",
      "70/70 [==============================] - 1s 14ms/step - loss: 13.8014 - val_loss: 13.6173\n",
      "Epoch 21/50\n",
      "70/70 [==============================] - 1s 18ms/step - loss: 13.8255 - val_loss: 13.2268\n",
      "Epoch 22/50\n",
      "70/70 [==============================] - 1s 17ms/step - loss: 14.1716 - val_loss: 13.6987\n",
      "Epoch 23/50\n",
      "70/70 [==============================] - 1s 21ms/step - loss: 13.8697 - val_loss: 13.8185\n",
      "Epoch 24/50\n",
      "70/70 [==============================] - 1s 21ms/step - loss: 13.8990 - val_loss: 13.6171\n",
      "Epoch 25/50\n",
      "70/70 [==============================] - 1s 18ms/step - loss: 13.7963 - val_loss: 13.6233\n",
      "Epoch 26/50\n",
      "70/70 [==============================] - 1s 16ms/step - loss: 13.6935 - val_loss: 13.7419\n",
      "Epoch 27/50\n",
      "70/70 [==============================] - 1s 19ms/step - loss: 13.5424 - val_loss: 13.1784\n",
      "Epoch 28/50\n",
      "70/70 [==============================] - 1s 18ms/step - loss: 13.8106 - val_loss: 13.8819\n",
      "Epoch 29/50\n",
      "70/70 [==============================] - 1s 16ms/step - loss: 13.8091 - val_loss: 14.0769\n",
      "Epoch 30/50\n",
      "70/70 [==============================] - 1s 18ms/step - loss: 13.6762 - val_loss: 13.8819\n",
      "Epoch 31/50\n",
      "70/70 [==============================] - 1s 17ms/step - loss: 13.3288 - val_loss: 13.4695\n",
      "Epoch 32/50\n",
      "70/70 [==============================] - 1s 20ms/step - loss: 13.6197 - val_loss: 13.6778\n",
      "Epoch 33/50\n",
      "70/70 [==============================] - 1s 18ms/step - loss: 13.6136 - val_loss: 14.0664\n",
      "Epoch 34/50\n",
      "70/70 [==============================] - 1s 15ms/step - loss: 13.5969 - val_loss: 13.5801\n",
      "Epoch 35/50\n",
      "70/70 [==============================] - 1s 20ms/step - loss: 13.6584 - val_loss: 13.7322\n",
      "Epoch 36/50\n",
      "70/70 [==============================] - 1s 15ms/step - loss: 13.4002 - val_loss: 14.0188\n",
      "Epoch 37/50\n",
      "70/70 [==============================] - 1s 18ms/step - loss: 13.3233 - val_loss: 13.6008\n",
      "Epoch 38/50\n",
      "70/70 [==============================] - 2s 22ms/step - loss: 13.3110 - val_loss: 13.9905\n",
      "Epoch 39/50\n",
      "70/70 [==============================] - 1s 16ms/step - loss: 13.3139 - val_loss: 15.1861\n",
      "Epoch 40/50\n",
      "70/70 [==============================] - 1s 21ms/step - loss: 13.4529 - val_loss: 14.7720\n",
      "Epoch 41/50\n",
      "70/70 [==============================] - 2s 22ms/step - loss: 13.4624 - val_loss: 13.9455\n",
      "Epoch 42/50\n",
      "70/70 [==============================] - 2s 22ms/step - loss: 13.0140 - val_loss: 14.2875\n",
      "Epoch 43/50\n",
      "70/70 [==============================] - 2s 23ms/step - loss: 13.3012 - val_loss: 14.2020\n",
      "Epoch 44/50\n",
      "70/70 [==============================] - 2s 23ms/step - loss: 13.0096 - val_loss: 13.7309\n",
      "Epoch 45/50\n",
      "70/70 [==============================] - 2s 23ms/step - loss: 13.1666 - val_loss: 14.5429\n",
      "Epoch 46/50\n",
      "70/70 [==============================] - 2s 22ms/step - loss: 13.0393 - val_loss: 13.9052\n",
      "Epoch 47/50\n",
      "70/70 [==============================] - 2s 27ms/step - loss: 12.7865 - val_loss: 14.8748\n",
      "Epoch 48/50\n",
      "70/70 [==============================] - 1s 20ms/step - loss: 13.6442 - val_loss: 13.8937\n",
      "Epoch 49/50\n",
      "70/70 [==============================] - 1s 19ms/step - loss: 12.8824 - val_loss: 14.3624\n",
      "Epoch 50/50\n",
      "70/70 [==============================] - 1s 19ms/step - loss: 12.9987 - val_loss: 13.8449\n"
     ]
    },
    {
     "data": {
      "text/plain": [
       "<tensorflow.python.keras.callbacks.History at 0x1fc42ee3ee0>"
      ]
     },
     "execution_count": 11,
     "metadata": {},
     "output_type": "execute_result"
    }
   ],
   "source": [
    "model.fit(X_train, y_train,\n",
    "          batch_size = 20, epochs=50, validation_data=(X_test, y_test))"
   ]
  },
  {
   "cell_type": "code",
   "execution_count": 12,
   "id": "9b517024-e592-4fd9-a843-c47c666c9b79",
   "metadata": {},
   "outputs": [
    {
     "data": {
      "image/png": "[encoded data removed]",
      "text/plain": [
       "<Figure size 750x450 with 1 Axes>"
      ]
     },
     "metadata": {},
     "output_type": "display_data"
    }
   ],
   "source": [
    "# model.predict(X_test)\n",
    "# X_test\n",
    "x = range(len(y_test))\n",
    "# ys = [(i,j) for i,j in zip(model.predict(X_test),y_test)]\n",
    "# ys.sort(key=lambda k:k[0])\n",
    "# plt.plot(x,[i[0] for i in ys])\n",
    "# plt.plot(x,[i[1] for i in ys])\n",
    "\n",
    "\n",
    "\n",
    "# for i,j in zip(model.predict(X_test),y_test):\n",
    "#     # print(f\"{i} : {j}, {abs(i-j)}\")\n",
    "#     if abs(i-j) > 5:\n",
    "#         print(f\"predict is {i}, real is {j}\")\n",
    "\n",
    "stats = [abs(i-j)[0].round() for i,j in zip(model.predict(X_test),y_test)]\n",
    "# stats = [abs(i-j) for i,j in zip(model.predict(X_test),y_test)]\n",
    "# print(stats)\n",
    "\n",
    "    # print(i)!pip install --upgrade tensorflow_gpu\n",
    "plt.figure(figsize=(5,3),dpi=150)\n",
    "sns.histplot(stats)\n",
    "plt.show()"
   ]
  },
  {
   "cell_type": "code",
   "execution_count": 13,
   "id": "b12d4582",
   "metadata": {},
   "outputs": [
    {
     "data": {
      "text/plain": [
       "348"
      ]
     },
     "execution_count": 13,
     "metadata": {},
     "output_type": "execute_result"
    }
   ],
   "source": [
    "len(stats)"
   ]
  },
  {
   "cell_type": "code",
   "execution_count": 14,
   "id": "56a6b6b8-89f8-4df2-8c7c-f07fdb8215f7",
   "metadata": {},
   "outputs": [],
   "source": [
    "d = {}\n",
    "for i in stats:\n",
    "    if i not in d.keys():\n",
    "        d[i] = 1\n",
    "    else:\n",
    "        d[i] += 1"
   ]
  },
  {
   "cell_type": "code",
   "execution_count": 15,
   "id": "00f7428b",
   "metadata": {},
   "outputs": [
    {
     "data": {
      "text/plain": [
       "2.8912258"
      ]
     },
     "execution_count": 15,
     "metadata": {},
     "output_type": "execute_result"
    }
   ],
   "source": [
    "import numpy as np\n",
    "np.std(stats)"
   ]
  },
  {
   "cell_type": "code",
   "execution_count": 16,
   "id": "3c9bc5a4",
   "metadata": {},
   "outputs": [
    {
     "data": {
      "text/plain": [
       "2.3304598"
      ]
     },
     "execution_count": 16,
     "metadata": {},
     "output_type": "execute_result"
    }
   ],
   "source": [
    "np.mean(stats)"
   ]
  },
  {
   "cell_type": "code",
   "execution_count": 17,
   "id": "74017f03",
   "metadata": {},
   "outputs": [
    {
     "data": {
      "text/plain": [
       "{4.0: 40,\n",
       " 12.0: 5,\n",
       " 0.0: 91,\n",
       " 1.0: 90,\n",
       " 8.0: 5,\n",
       " 5.0: 16,\n",
       " 2.0: 59,\n",
       " 6.0: 10,\n",
       " 3.0: 19,\n",
       " 10.0: 2,\n",
       " 14.0: 1,\n",
       " 7.0: 3,\n",
       " 9.0: 3,\n",
       " 21.0: 1,\n",
       " 15.0: 1,\n",
       " 11.0: 1,\n",
       " 17.0: 1}"
      ]
     },
     "execution_count": 17,
     "metadata": {},
     "output_type": "execute_result"
    }
   ],
   "source": [
    "d"
   ]
  },
  {
   "cell_type": "code",
   "execution_count": 18,
   "id": "60c2d19f",
   "metadata": {},
   "outputs": [
    {
     "name": "stdout",
     "output_type": "stream",
     "text": [
      "INFO:tensorflow:Assets written to: best_model\\assets\n"
     ]
    }
   ],
   "source": [
    "model.save(\"best_model\")"
   ]
  }
 ],
 "metadata": {
  "kernelspec": {
   "display_name": "Python 3.9.5 ('mlenv')",
   "language": "python",
   "name": "python3"
  },
  "language_info": {
   "codemirror_mode": {
    "name": "ipython",
    "version": 3
   },
   "file_extension": ".py",
   "mimetype": "text/x-python",
   "name": "python",
   "nbconvert_exporter": "python",
   "pygments_lexer": "ipython3",
   "version": "3.9.5"
  },
  "vscode": {
   "interpreter": {
    "hash": "9a7b6a1d1fdf4e1a3223a80396e1baa014b6445268da125f235907588d779551"
   }
  }
 },
 "nbformat": 4,
 "nbformat_minor": 5
}
