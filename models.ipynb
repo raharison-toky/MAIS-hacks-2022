{
 "cells": [
  {
   "cell_type": "code",
   "execution_count": null,
   "id": "2709f6d0-3d6e-40a3-ae09-12011ad3906a",
   "metadata": {},
   "outputs": [],
   "source": [
    "import tensorflow as tf\n",
    "from tensorflow import keras\n",
    "from tensorflow.keras import layers\n",
    "import pandas as pd\n",
    "from sklearn.model_selection import train_test_split\n",
    "import matplotlib.pyplot as plt\n",
    "from tensorflow.keras.layers import Dense, Dropout, Activation\n",
    "\n",
    "# tf.__version__\n",
    "tf.config.list_physical_devices()"
   ]
  },
  {
   "cell_type": "code",
   "execution_count": null,
   "id": "7027777c",
   "metadata": {},
   "outputs": [],
   "source": [
    "tf.__version__"
   ]
  },
  {
   "cell_type": "code",
   "execution_count": null,
   "id": "072391ce",
   "metadata": {},
   "outputs": [],
   "source": [
    "import seaborn as sns\n",
    "sns.set_style(\"darkgrid\")"
   ]
  },
  {
   "cell_type": "code",
   "execution_count": null,
   "id": "26220a3f-1a84-4327-914b-6aafb0f1f014",
   "metadata": {},
   "outputs": [],
   "source": [
    "model = keras.Sequential([\n",
    "    layers.Input(shape=(23,)),\n",
    "\n",
    "    # layers.Dense(4096, activation=\"relu\"),\n",
    "    # layers.Dense(4096, activation=\"relu\"),\n",
    "    # layers.Dense(4096, activation=\"relu\"),\n",
    "\n",
    "    # layers.Dense(4096, activation=\"relu\"),\n",
    "    # layers.Dense(1024, activation=\"relu\"),\n",
    "    # layers.Dense(4096, activation=\"relu\"),\n",
    "    # layers.Dense(1024, activation=\"relu\"),\n",
    "    layers.Dense(128, activation=\"relu\"),\n",
    "    layers.Dense(256, activation=\"relu\"),\n",
    "    layers.Dropout(0.1),\n",
    "    layers.Dense(1024, activation=\"relu\"),\n",
    "    layers.Dense(4096, activation=\"relu\"),\n",
    "    layers.Dropout(0.1),\n",
    "    layers.Dense(4096, activation=\"relu\"),\n",
    "    layers.Dense(1024, activation=\"relu\"),\n",
    "    layers.Dropout(0.1),\n",
    "    layers.Dense(256, activation=\"relu\"),\n",
    "    layers.Dense(128, activation=\"relu\"),\n",
    "    \n",
    "    layers.Dropout(0.1),\n",
    "    layers.Dense(1)\n",
    "    \n",
    "])\n",
    "# for i in range(8):\n",
    "#     model.add(Dense(2048))\n",
    "#     model.add(Activation(\"relu\"))\n",
    "\n",
    "# model.add(Dropout(0.1))\n",
    "# model.add(Dense(1))\n",
    "\n",
    "model.build()"
   ]
  },
  {
   "cell_type": "code",
   "execution_count": null,
   "id": "120742fe-2860-4d58-ad34-0d7ff84b0e17",
   "metadata": {},
   "outputs": [],
   "source": [
    "model.summary()"
   ]
  },
  {
   "cell_type": "code",
   "execution_count": null,
   "id": "1e3ce99d-e3b1-42ef-a8f9-bc6253492d84",
   "metadata": {},
   "outputs": [],
   "source": [
    "model.compile(loss=\"mean_squared_error\",\n",
    "              optimizer=\"adam\")"
   ]
  },
  {
   "cell_type": "code",
   "execution_count": null,
   "id": "1e828133",
   "metadata": {},
   "outputs": [],
   "source": [
    "df = pd.read_csv(\"cleanest_dataset2.csv\")\n",
    "df"
   ]
  },
  {
   "cell_type": "code",
   "execution_count": null,
   "id": "66bdd700-5ef8-480e-97c6-2c3c84cc0f29",
   "metadata": {},
   "outputs": [],
   "source": [
    "arr = pd.read_csv(\"cleanest_dataset2.csv\",index_col= False).to_numpy()\n",
    "\n",
    "print(arr.shape)\n",
    "\n",
    "X_data = arr[:, :-1]\n",
    "y_data = arr[:, -1]\n",
    "print(X_data)\n",
    "X_train, X_test, y_train, y_test = train_test_split(X_data, y_data, test_size=0.2)"
   ]
  },
  {
   "cell_type": "code",
   "execution_count": null,
   "id": "3f829a63",
   "metadata": {},
   "outputs": [],
   "source": [
    "X_train[1]"
   ]
  },
  {
   "cell_type": "code",
   "execution_count": null,
   "id": "26169cf6-506e-4c57-930f-b18fb7d7436e",
   "metadata": {
    "tags": []
   },
   "outputs": [],
   "source": [
    "model.fit(X_train, y_train,\n",
    "          batch_size = 20, epochs=50, validation_data=(X_test, y_test))"
   ]
  },
  {
   "cell_type": "code",
   "execution_count": null,
   "id": "9b517024-e592-4fd9-a843-c47c666c9b79",
   "metadata": {},
   "outputs": [],
   "source": [
    "# model.predict(X_test)\n",
    "# X_test\n",
    "x = range(len(y_test))\n",
    "# ys = [(i,j) for i,j in zip(model.predict(X_test),y_test)]\n",
    "# ys.sort(key=lambda k:k[0])\n",
    "# plt.plot(x,[i[0] for i in ys])\n",
    "# plt.plot(x,[i[1] for i in ys])\n",
    "\n",
    "\n",
    "\n",
    "# for i,j in zip(model.predict(X_test),y_test):\n",
    "#     # print(f\"{i} : {j}, {abs(i-j)}\")\n",
    "#     if abs(i-j) > 5:\n",
    "#         print(f\"predict is {i}, real is {j}\")\n",
    "\n",
    "stats = [abs(i-j)[0].round() for i,j in zip(model.predict(X_test),y_test)]\n",
    "# stats = [abs(i-j) for i,j in zip(model.predict(X_test),y_test)]\n",
    "# print(stats)\n",
    "\n",
    "    # print(i)!pip install --upgrade tensorflow_gpu\n",
    "plt.figure(figsize=(5,3),dpi=150)\n",
    "sns.histplot(stats)\n",
    "plt.xlabel(\"Absolute value difference (#)\")\n",
    "plt.show()"
   ]
  },
  {
   "cell_type": "code",
   "execution_count": null,
   "id": "b12d4582",
   "metadata": {},
   "outputs": [],
   "source": [
    "len(stats)"
   ]
  },
  {
   "cell_type": "code",
   "execution_count": null,
   "id": "56a6b6b8-89f8-4df2-8c7c-f07fdb8215f7",
   "metadata": {},
   "outputs": [],
   "source": [
    "d = {}\n",
    "for i in stats:\n",
    "    if i not in d.keys():\n",
    "        d[i] = 1\n",
    "    else:\n",
    "        d[i] += 1"
   ]
  },
  {
   "cell_type": "code",
   "execution_count": null,
   "id": "00f7428b",
   "metadata": {},
   "outputs": [],
   "source": [
    "import numpy as np\n",
    "np.std(stats)"
   ]
  },
  {
   "cell_type": "code",
   "execution_count": null,
   "id": "3c9bc5a4",
   "metadata": {},
   "outputs": [],
   "source": [
    "np.mean(stats)"
   ]
  },
  {
   "cell_type": "code",
   "execution_count": null,
   "id": "74017f03",
   "metadata": {},
   "outputs": [],
   "source": [
    "d"
   ]
  },
  {
   "cell_type": "code",
   "execution_count": null,
   "id": "60c2d19f",
   "metadata": {},
   "outputs": [],
   "source": [
    "model.save(\"best_model\")"
   ]
  }
 ],
 "metadata": {
  "kernelspec": {
   "display_name": "Python 3.9.5 ('mlenv')",
   "language": "python",
   "name": "python3"
  },
  "language_info": {
   "codemirror_mode": {
    "name": "ipython",
    "version": 3
   },
   "file_extension": ".py",
   "mimetype": "text/x-python",
   "name": "python",
   "nbconvert_exporter": "python",
   "pygments_lexer": "ipython3",
   "version": "3.9.5"
  },
  "vscode": {
   "interpreter": {
    "hash": "9a7b6a1d1fdf4e1a3223a80396e1baa014b6445268da125f235907588d779551"
   }
  }
 },
 "nbformat": 4,
 "nbformat_minor": 5
}
